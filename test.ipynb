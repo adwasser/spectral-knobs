{
 "cells": [
  {
   "cell_type": "code",
   "execution_count": 41,
   "metadata": {
    "collapsed": true
   },
   "outputs": [],
   "source": [
    "%matplotlib inline\n",
    "import numpy as np\n",
    "import matplotlib as mpl\n",
    "from matplotlib import pyplot as plt\n",
    "\n",
    "from knobs.cloud import Cloud, CloudInteractive, MultiCloudInteractive"
   ]
  },
  {
   "cell_type": "code",
   "execution_count": 6,
   "metadata": {
    "collapsed": true
   },
   "outputs": [],
   "source": [
    "import seaborn as sns\n",
    "sns.set_context('notebook', font_scale=1.5)\n",
    "sns.set_style('ticks', rc={'xtick.direction': 'in', 'ytick.direction': 'in'})"
   ]
  },
  {
   "cell_type": "code",
   "execution_count": 7,
   "metadata": {},
   "outputs": [
    {
     "data": {
      "application/vnd.jupyter.widget-view+json": {
       "model_id": "2b31a766816d4d62b1f8d6ac3cb94173"
      }
     },
     "metadata": {},
     "output_type": "display_data"
    }
   ],
   "source": [
    "knobs.GaussInteractive()"
   ]
  },
  {
   "cell_type": "markdown",
   "metadata": {},
   "source": [
    "H$\\alpha$ emission line between 650 and 660 nm."
   ]
  },
  {
   "cell_type": "code",
   "execution_count": 24,
   "metadata": {},
   "outputs": [
    {
     "data": {
      "application/vnd.jupyter.widget-view+json": {
       "model_id": "44040064be124cee90b0b55f724a83b3"
      }
     },
     "metadata": {},
     "output_type": "display_data"
    }
   ],
   "source": [
    "# z = 0, T = 6e3 K, density is 1\n",
    "cloud = Cloud(0, 6e3, 1)\n",
    "CloudInteractive(cloud, 650, 660, zmax=0.01)"
   ]
  },
  {
   "cell_type": "markdown",
   "metadata": {},
   "source": [
    "Two-components of H$\\alpha$ emission"
   ]
  },
  {
   "cell_type": "code",
   "execution_count": 57,
   "metadata": {},
   "outputs": [
    {
     "data": {
      "application/vnd.jupyter.widget-view+json": {
       "model_id": "e776dbfbd2494c79ba9cbd8cfb671071"
      }
     },
     "metadata": {},
     "output_type": "display_data"
    }
   ],
   "source": [
    "clouds = [Cloud(0, 2e3, 1),\n",
    "          Cloud(0.002, 1e4, 1)]\n",
    "i = MultiCloudInteractive(clouds, 650, 660, zmax=0.01)\n",
    "i"
   ]
  },
  {
   "cell_type": "code",
   "execution_count": 52,
   "metadata": {},
   "outputs": [
    {
     "data": {
      "application/vnd.jupyter.widget-view+json": {
       "model_id": "6ae274fc162a4a7fb44b299781b0bf8a"
      }
     },
     "metadata": {},
     "output_type": "display_data"
    }
   ],
   "source": [
    "from ipywidgets import IntSlider, HBox, VBox, interactive\n",
    "\n",
    "def plot(x1, y1, x2, y2):\n",
    "    plt.plot(x1, y1, 'o')\n",
    "    plt.plot(x2, y2, 'v')\n",
    "    plt.xlabel('x')\n",
    "    plt.ylabel('y')\n",
    "    plt.xlim(0, 100)\n",
    "    plt.ylim(0, 100)\n",
    "    plt.show()\n",
    "x1 = IntSlider(value=2)\n",
    "y1 = IntSlider(value=3)\n",
    "x2 = IntSlider(value=4)\n",
    "y2 = IntSlider(value=5)\n",
    "\n",
    "left = VBox([x1, y1])\n",
    "right = VBox([x2, y2])\n",
    "layout = HBox([left, right])\n",
    "interactive(plot, x1=x1, y1=y1, x2=x2, y2=y2)"
   ]
  },
  {
   "cell_type": "code",
   "execution_count": null,
   "metadata": {
    "collapsed": true
   },
   "outputs": [],
   "source": []
  }
 ],
 "metadata": {
  "kernelspec": {
   "display_name": "Python 3",
   "language": "python",
   "name": "python3"
  },
  "language_info": {
   "codemirror_mode": {
    "name": "ipython",
    "version": 3
   },
   "file_extension": ".py",
   "mimetype": "text/x-python",
   "name": "python",
   "nbconvert_exporter": "python",
   "pygments_lexer": "ipython3",
   "version": "3.6.1"
  }
 },
 "nbformat": 4,
 "nbformat_minor": 2
}
