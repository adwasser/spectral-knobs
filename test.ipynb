{
 "cells": [
  {
   "cell_type": "code",
   "execution_count": 87,
   "metadata": {},
   "outputs": [],
   "source": [
    "%matplotlib inline\n",
    "import numpy as np\n",
    "import matplotlib as mpl\n",
    "from matplotlib import pyplot as plt\n",
    "\n",
    "import knobs\n",
    "from knobs.cloud import Cloud, AbsorptionCloud, CloudInteractive #, MultiCloudInteractive"
   ]
  },
  {
   "cell_type": "code",
   "execution_count": 88,
   "metadata": {
    "collapsed": true
   },
   "outputs": [],
   "source": [
    "import seaborn as sns\n",
    "sns.set_context('poster', font_scale=1.5)\n",
    "sns.set_style('ticks', rc={'xtick.direction': 'in', 'ytick.direction': 'in'})"
   ]
  },
  {
   "cell_type": "markdown",
   "metadata": {},
   "source": [
    "H$\\alpha$ emission line between 650 and 660 nm."
   ]
  },
  {
   "cell_type": "code",
   "execution_count": 89,
   "metadata": {
    "scrolled": false
   },
   "outputs": [
    {
     "data": {
      "application/vnd.jupyter.widget-view+json": {
       "model_id": "004f8f1e89a54deeb94f7b87dfd8aa64"
      }
     },
     "metadata": {},
     "output_type": "display_data"
    }
   ],
   "source": [
    "# z = 0, sigma = 100 km/s, density is 1 (arbitrary)\n",
    "cloud = Cloud(0, 100, 1)\n",
    "i = CloudInteractive(cloud, 650, 660, zmax=0.1, smin=5, smax=100, nmax=5)\n",
    "i"
   ]
  },
  {
   "cell_type": "markdown",
   "metadata": {},
   "source": [
    "H$\\alpha$ absorption line between 650 and 660 nm."
   ]
  },
  {
   "cell_type": "code",
   "execution_count": 93,
   "metadata": {},
   "outputs": [
    {
     "data": {
      "application/vnd.jupyter.widget-view+json": {
       "model_id": "6b0753b05abc42d9842f54741be9ea79"
      }
     },
     "metadata": {},
     "output_type": "display_data"
    }
   ],
   "source": [
    "# z = 0, sigma = 100 km/s, density is 1 (arbitrary)\n",
    "cloud = AbsorptionCloud(0, 100, 0.1)\n",
    "i = CloudInteractive(cloud, 650, 660, zmax=0.1, smin=5, smax=100, nmax=1)\n",
    "i"
   ]
  },
  {
   "cell_type": "markdown",
   "metadata": {},
   "source": [
    "Two-components of H$\\alpha$ emission"
   ]
  },
  {
   "cell_type": "code",
   "execution_count": null,
   "metadata": {
    "collapsed": true
   },
   "outputs": [],
   "source": [
    "clouds = [Cloud(0, 2e3, 1),\n",
    "          Cloud(0.002, 1e4, 1)]\n",
    "i = MultiCloudInteractive(clouds, 650, 660, zmax=0.01)\n",
    "i"
   ]
  },
  {
   "cell_type": "code",
   "execution_count": null,
   "metadata": {
    "collapsed": true
   },
   "outputs": [],
   "source": []
  }
 ],
 "metadata": {
  "kernelspec": {
   "display_name": "Python 3",
   "language": "python",
   "name": "python3"
  },
  "language_info": {
   "codemirror_mode": {
    "name": "ipython",
    "version": 3
   },
   "file_extension": ".py",
   "mimetype": "text/x-python",
   "name": "python",
   "nbconvert_exporter": "python",
   "pygments_lexer": "ipython3",
   "version": "3.6.1"
  }
 },
 "nbformat": 4,
 "nbformat_minor": 2
}
