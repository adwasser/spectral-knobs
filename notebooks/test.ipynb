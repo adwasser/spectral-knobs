{
 "cells": [
  {
   "cell_type": "code",
   "execution_count": 3,
   "metadata": {},
   "outputs": [],
   "source": [
    "import numpy as np\n",
    "import matplotlib as mpl\n",
    "from matplotlib import pyplot as plt\n",
    "\n",
    "from knobs import Cloud, CloudInteractive, MultiCloudInteractive"
   ]
  },
  {
   "cell_type": "code",
   "execution_count": 4,
   "metadata": {
    "collapsed": true
   },
   "outputs": [],
   "source": [
    "import seaborn as sns\n",
    "sns.set_context('poster', font_scale=1.5)\n",
    "sns.set_style('ticks', rc={'xtick.direction': 'in', 'ytick.direction': 'in'})"
   ]
  },
  {
   "cell_type": "markdown",
   "metadata": {},
   "source": [
    "## Examples:"
   ]
  },
  {
   "cell_type": "markdown",
   "metadata": {},
   "source": [
    "H$\\alpha$ emission line between 650 and 660 nm."
   ]
  },
  {
   "cell_type": "code",
   "execution_count": 22,
   "metadata": {
    "scrolled": false
   },
   "outputs": [
    {
     "data": {
      "application/vnd.jupyter.widget-view+json": {
       "model_id": "f5b790fab20046579fc3e65d27937564"
      }
     },
     "metadata": {},
     "output_type": "display_data"
    }
   ],
   "source": [
    "# z = 0, sigma = 100 km/s, density is 1 (arbitrary)\n",
    "i = CloudInteractive(650, 660, zmax=0.01, smin=5, smax=100, nmax=5, \n",
    "                     widgets=('z', 'sigma', 'balmer'))\n",
    "i"
   ]
  },
  {
   "cell_type": "markdown",
   "metadata": {},
   "source": [
    "H$\\alpha$ absorption line between 650 and 660 nm."
   ]
  },
  {
   "cell_type": "code",
   "execution_count": 25,
   "metadata": {},
   "outputs": [
    {
     "data": {
      "application/vnd.jupyter.widget-view+json": {
       "model_id": "3c6d37fbfa0a44b88c0e416532149521"
      }
     },
     "metadata": {},
     "output_type": "display_data"
    }
   ],
   "source": [
    "i = CloudInteractive(650, 660, cloud_kwargs={'absorption': True, 'continuum': 2.0}, \n",
    "                     zmax=0.01, smin=5, smax=100, nmax=1)\n",
    "i"
   ]
  },
  {
   "cell_type": "markdown",
   "metadata": {},
   "source": [
    "Two-components of H$\\alpha$ emission"
   ]
  },
  {
   "cell_type": "code",
   "execution_count": 49,
   "metadata": {},
   "outputs": [
    {
     "data": {
      "application/vnd.jupyter.widget-view+json": {
       "model_id": "68bc6a8379674c07bdb0a77fdbc5b3d8"
      }
     },
     "metadata": {},
     "output_type": "display_data"
    }
   ],
   "source": [
    "clouds = [Cloud(0, 300, 1),\n",
    "          Cloud(0.001, 400, 1)]\n",
    "i = MultiCloudInteractive(650, 660, clouds, zmax=0.01, nmin=0.1, nmax=2,\n",
    "                          widgets=('z', 'n'))\n",
    "i"
   ]
  },
  {
   "cell_type": "markdown",
   "metadata": {},
   "source": [
    "Two components of H$\\alpha$ absorption."
   ]
  },
  {
   "cell_type": "code",
   "execution_count": 71,
   "metadata": {},
   "outputs": [
    {
     "data": {
      "application/vnd.jupyter.widget-view+json": {
       "model_id": "9479569e61a2460cbe4114a8a4b4e3e3"
      }
     },
     "metadata": {},
     "output_type": "display_data"
    }
   ],
   "source": [
    "clouds = [Cloud(0, 150, 0.2, absorption=True),\n",
    "          Cloud(0.0005, 100, 0.2, absorption=True, continuum=0.01)]\n",
    "i = MultiCloudInteractive(650, 660, clouds, zmax=0.001, nmin=0.1, nmax=1, smin=50, smax=200,\n",
    "                          widgets=('z', 'sigma'))\n",
    "i"
   ]
  },
  {
   "cell_type": "code",
   "execution_count": 87,
   "metadata": {},
   "outputs": [
    {
     "data": {
      "application/vnd.jupyter.widget-view+json": {
       "model_id": "4a5699d61334460598fa92c61603911e"
      }
     },
     "metadata": {},
     "output_type": "display_data"
    }
   ],
   "source": [
    "clouds = [\n",
    "    Cloud(z=0.3, sigma=50, n=0.01, absorption=True),\n",
    "    Cloud(z=1, sigma=50, n=0.01, absorption=True, continuum=0.01)\n",
    "]\n",
    "\n",
    "i = MultiCloudInteractive(100, 1000, clouds, zmax=3, nmax=1,\n",
    "                          widgets=('z', 'lyman', 'balmer', 'paschen'))\n",
    "i"
   ]
  },
  {
   "cell_type": "markdown",
   "metadata": {},
   "source": [
    "Local H$\\gamma$ emission covering up high-z Ly$\\alpha$ absorption."
   ]
  },
  {
   "cell_type": "code",
   "execution_count": 101,
   "metadata": {},
   "outputs": [
    {
     "data": {
      "application/vnd.jupyter.widget-view+json": {
       "model_id": "4b3eb8e68b56454bae3c9760f53713b2"
      }
     },
     "metadata": {},
     "output_type": "display_data"
    }
   ],
   "source": [
    "from knobs.physics import hydrogen_lines\n",
    "hgamma = hydrogen_lines([2], n_upper=5)[0]\n",
    "lalpha = hydrogen_lines([1], n_upper=2)[0]\n",
    "z = (hgamma - lalpha) / lalpha + 0.0001\n",
    "\n",
    "clouds = [\n",
    "    Cloud(z=0, sigma=50, n=0.1, absorption=False),\n",
    "    Cloud(z=z, sigma=100, n=0.01, absorption=True)\n",
    "]\n",
    "\n",
    "i = MultiCloudInteractive(432, 436, clouds, zmax=3, nmax=0.5, smin=10, smax=100,\n",
    "                          widgets=('n', 'sigma', 'lyman', 'balmer'))\n",
    "i"
   ]
  },
  {
   "cell_type": "code",
   "execution_count": null,
   "metadata": {
    "collapsed": true
   },
   "outputs": [],
   "source": []
  }
 ],
 "metadata": {
  "kernelspec": {
   "display_name": "Python 3",
   "language": "python",
   "name": "python3"
  },
  "language_info": {
   "codemirror_mode": {
    "name": "ipython",
    "version": 3
   },
   "file_extension": ".py",
   "mimetype": "text/x-python",
   "name": "python",
   "nbconvert_exporter": "python",
   "pygments_lexer": "ipython3",
   "version": "3.6.1"
  }
 },
 "nbformat": 4,
 "nbformat_minor": 2
}
